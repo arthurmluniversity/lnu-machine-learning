{
 "cells": [
  {
   "cell_type": "markdown",
   "metadata": {},
   "source": [
    "# ***Імпортуємо необхідні бібліотеки для роботи***"
   ]
  },
  {
   "cell_type": "code",
   "execution_count": 1,
   "metadata": {},
   "outputs": [],
   "source": [
    "import numpy as np\n",
    "import random\n",
    "import time\n",
    "import unittest"
   ]
  },
  {
   "cell_type": "markdown",
   "metadata": {},
   "source": [
    "# ***Реалізуємо метод множення двох матриць (N x M)***"
   ]
  },
  {
   "cell_type": "code",
   "execution_count": 2,
   "metadata": {
    "colab": {
     "base_uri": "https://localhost:8080/"
    },
    "id": "krkuQB0KCKJG",
    "outputId": "f26e46f0-37e4-47c5-81e6-05c5b8a0ec2a"
   },
   "outputs": [],
   "source": [
    "mA = np.random.rand(4, 4)\n",
    "mB = np.random.rand(4, 4)\n",
    "matrixC = np.random.rand(4, 4)\n",
    "v1 = np.random.rand(4)\n",
    "v2 = np.random.rand(4)\n",
    "def gCAL(mTM, col):\n",
    "    mL = []\n",
    "    nOR = len(mTM)\n",
    "    for i in range(nOR):\n",
    "        mL.append(mTM[i][col])\n",
    "    return mL\n",
    " \n",
    "def gC(mA, mB, r, c):\n",
    "    mBC = gCAL(mB, c)\n",
    "    lOL = len(mBC)\n",
    "    pL = [mA[r][i]*mBC[i] for i in range(lOL)]\n",
    "    return sum(pL)\n",
    "rowA = len(mA)\n",
    "colA = len(mA[0])\n",
    "rowB = len(mB)\n",
    "colB = len(mB[0])\n",
    "rowC = len(matrixC)\n",
    "start_time1 = time.time() \n",
    "result = [[0 for p in range(colB)] for q in range(rowA)]"
   ]
  },
  {
   "cell_type": "code",
   "execution_count": 3,
   "metadata": {},
   "outputs": [
    {
     "name": "stdout",
     "output_type": "stream",
     "text": [
      "Multiplying matrices without NumPy: \n",
      "[1.9763970379934286, 0.7634585025988004, 1.053082863273499, 1.4762904041659919]\n",
      "[1.2095803943131396, 0.49880062507636874, 0.6721767507667729, 1.0334911669753672]\n",
      "[0.8280745159319942, 0.2936414696589369, 0.5152129339349665, 0.5065427495351547]\n",
      "[1.6699838044440032, 0.6866499193775223, 0.9116099360976246, 1.2792202984609156]\n",
      "--- 0.017005205154418945 seconds ---\n",
      "--------------------\n",
      "Multiplying matrices with NumPy\n",
      "[[1.97639704 0.7634585  1.05308286 1.4762904 ]\n",
      " [1.20958039 0.49880063 0.67217675 1.03349117]\n",
      " [0.82807452 0.29364147 0.51521293 0.50654275]\n",
      " [1.6699838  0.68664992 0.91160994 1.2792203 ]]\n",
      "--- 0.018992185592651367 seconds ---\n"
     ]
    }
   ],
   "source": [
    "print('Multiplying matrices without NumPy: ')\n",
    "for i in range(rowA):\n",
    "  for j in range(colB):\n",
    "        result[i][j] = gC(mA, mB, i, j)\n",
    "  print(result[i])\n",
    "print(\"--- %s seconds ---\" % (time.time() - start_time1))\n",
    "start_time2 = time.time()\n",
    "c = np.matmul(mA, mB)\n",
    "print('--------------------')\n",
    "print('Multiplying matrices with NumPy')\n",
    "print(c)\n",
    "print(\"--- %s seconds ---\" % (time.time() - start_time2))"
   ]
  },
  {
   "cell_type": "markdown",
   "metadata": {},
   "source": [
    "# ***Реалізуємо метод множення матриці (N x M) на вектор (N)***"
   ]
  },
  {
   "cell_type": "code",
   "execution_count": 4,
   "metadata": {
    "colab": {
     "base_uri": "https://localhost:8080/"
    },
    "id": "F6EXgjHRNITf",
    "outputId": "5794f020-cd9b-44d5-baa1-2dcbc8e93e53"
   },
   "outputs": [],
   "source": [
    "start_time3 = time.time()\n",
    "N = 2\n",
    "t = [0]*(N)\n",
    "for i in range(N):\n",
    "  t[i]=0\n",
    "for i in range(N):\n",
    "  for j in range(N):\n",
    "    t[i] += (mA[i][j] * v1[j])"
   ]
  },
  {
   "cell_type": "code",
   "execution_count": 5,
   "metadata": {},
   "outputs": [
    {
     "name": "stdout",
     "output_type": "stream",
     "text": [
      "Matrix multiplied by a vector without NumPy\n",
      "[0.5113424525734949, 0.38800723256446756]\n",
      "--- 0.019001007080078125 seconds ---\n",
      "------------\n",
      "Matrix multiplied by a vector with NumPy\n",
      "[0.63729536 0.46212137 0.27242766 0.56071732]\n",
      "--- 0.0010020732879638672 seconds ---\n"
     ]
    }
   ],
   "source": [
    "print('Matrix multiplied by a vector without NumPy')\n",
    "print(t)\n",
    "print(\"--- %s seconds ---\" % (time.time() - start_time3))\n",
    "print('------------')\n",
    "print('Matrix multiplied by a vector with NumPy')\n",
    "start_time4 = time.time()\n",
    "total = np.matmul(mA, v1)\n",
    "print(total)\n",
    "print(\"--- %s seconds ---\" % (time.time() - start_time4))"
   ]
  },
  {
   "cell_type": "markdown",
   "metadata": {},
   "source": [
    "# ***Реалізуємо метод множення вектора (N) на матрицю (N x M)***"
   ]
  },
  {
   "cell_type": "code",
   "execution_count": 6,
   "metadata": {
    "colab": {
     "base_uri": "https://localhost:8080/"
    },
    "id": "KlPkO9fEV-39",
    "outputId": "41e7e9b4-b090-4863-e447-030b454bbaee"
   },
   "outputs": [],
   "source": [
    "start_time5 = time.time()\n",
    "N = 4\n",
    "b = [0]*(N)\n",
    "for i in range(N):\n",
    "  b[i]=0\n",
    "\n",
    "for i in range(N):\n",
    "  for j in range(N):\n",
    "    b[i] += (v2[j] * mB[j][i])"
   ]
  },
  {
   "cell_type": "code",
   "execution_count": 7,
   "metadata": {},
   "outputs": [
    {
     "name": "stdout",
     "output_type": "stream",
     "text": [
      "Multiplying a Vector by a Matrix  without NumPy\n",
      "[1.0682164084034143, 0.23392102492269662, 0.4911010008942399, 0.3633802612718113]\n",
      "--- 0.02199864387512207 seconds ---\n",
      "--------\n",
      "Multiplying a Vector by a Matrix with NumPy\n",
      "[1.06821641 0.23392102 0.491101   0.36338026]\n",
      "--- 0.001003265380859375 seconds ---\n"
     ]
    }
   ],
   "source": [
    "print('Multiplying a Vector by a Matrix  without NumPy')\n",
    "print(b)\n",
    "print(\"--- %s seconds ---\" % (time.time() - start_time5))\n",
    "print('--------')\n",
    "print('Multiplying a Vector by a Matrix with NumPy')\n",
    "start_time6 = time.time()\n",
    "help = v2.dot(mB)\n",
    "print(help)\n",
    "print(\"--- %s seconds ---\" % (time.time() - start_time6))"
   ]
  },
  {
   "cell_type": "markdown",
   "metadata": {},
   "source": [
    "# ***Реалізуємо метод множення двох векторів (N)***"
   ]
  },
  {
   "cell_type": "code",
   "execution_count": 8,
   "metadata": {
    "colab": {
     "base_uri": "https://localhost:8080/"
    },
    "id": "o_Il-7kW8rN6",
    "outputId": "f5edc951-a9b6-4084-93d5-2a6bd647b36e"
   },
   "outputs": [],
   "source": [
    "start_time7 = time.time()\n",
    "def vectorOnVector(v1, v2):\n",
    "    lenght = len(v1)\n",
    "    scalar = 0\n",
    "    for i in range(lenght):\n",
    "        scalar = scalar + v1[i]*v2[i]\n",
    "    return scalar"
   ]
  },
  {
   "cell_type": "code",
   "execution_count": 9,
   "metadata": {},
   "outputs": [
    {
     "name": "stdout",
     "output_type": "stream",
     "text": [
      "Multiplication of two vectors without NumPy\n",
      "0.12602058189866072\n",
      "--- 0.01000070571899414 seconds ---\n",
      "--------\n",
      "Multiplication of two vectors with NumPy\n",
      "0.12602058189866075\n",
      "--- 0.0 seconds ---\n"
     ]
    }
   ],
   "source": [
    "scalar = vectorOnVector(v1, v2)\n",
    "print('Multiplication of two vectors without NumPy')\n",
    "print(scalar)\n",
    "print(\"--- %s seconds ---\" % (time.time() - start_time7))\n",
    "print('--------')\n",
    "print('Multiplication of two vectors with NumPy')\n",
    "start_time8 = time.time()\n",
    "well = v1.dot(v2)\n",
    "print(well)\n",
    "print(\"--- %s seconds ---\" % (time.time() - start_time8))"
   ]
  },
  {
   "cell_type": "code",
   "execution_count": null,
   "metadata": {},
   "outputs": [],
   "source": []
  }
 ],
 "metadata": {
  "colab": {
   "collapsed_sections": [],
   "name": "Lab2Machine.ipynb",
   "provenance": []
  },
  "kernelspec": {
   "display_name": "Python 3",
   "language": "python",
   "name": "python3"
  },
  "language_info": {
   "codemirror_mode": {
    "name": "ipython",
    "version": 3
   },
   "file_extension": ".py",
   "mimetype": "text/x-python",
   "name": "python",
   "nbconvert_exporter": "python",
   "pygments_lexer": "ipython3",
   "version": "3.8.8"
  }
 },
 "nbformat": 4,
 "nbformat_minor": 1
}
